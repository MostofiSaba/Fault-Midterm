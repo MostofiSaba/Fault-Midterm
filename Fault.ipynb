{
 "cells": [
  {
   "cell_type": "code",
   "execution_count": 1,
   "metadata": {},
   "outputs": [],
   "source": [
    "import numpy as np"
   ]
  },
  {
   "cell_type": "code",
   "execution_count": 2,
   "metadata": {},
   "outputs": [],
   "source": [
    "count = 0"
   ]
  },
  {
   "cell_type": "code",
   "execution_count": 3,
   "metadata": {},
   "outputs": [
    {
     "name": "stdout",
     "output_type": "stream",
     "text": [
      "Enter the number of rows:4\n",
      "Enter the number of columns:7\n"
     ]
    }
   ],
   "source": [
    "R = int(input(\"Enter the number of rows:\")) \n",
    "C = int(input(\"Enter the number of columns:\")) "
   ]
  },
  {
   "cell_type": "code",
   "execution_count": 4,
   "metadata": {},
   "outputs": [
    {
     "name": "stdout",
     "output_type": "stream",
     "text": [
      "Enter the entries in a single line (separated by space): \n",
      "1 0 0 0 1 1 1 0 1 0 0 1 1 0 0 0 1 0 1 0 1 0 0 0 1 0 1 1\n"
     ]
    }
   ],
   "source": [
    "print(\"Enter the entries in a single line (separated by space): \") \n",
    "entries = list(map(int, input().split())) "
   ]
  },
  {
   "cell_type": "code",
   "execution_count": 5,
   "metadata": {},
   "outputs": [
    {
     "name": "stdout",
     "output_type": "stream",
     "text": [
      "[[1 0 0 0 1 1 1]\n",
      " [0 1 0 0 1 1 0]\n",
      " [0 0 1 0 1 0 1]\n",
      " [0 0 0 1 0 1 1]]\n"
     ]
    }
   ],
   "source": [
    "matrix = np.array(entries).reshape(R, C) \n",
    "print(matrix) "
   ]
  },
  {
   "cell_type": "code",
   "execution_count": 6,
   "metadata": {},
   "outputs": [],
   "source": [
    "I = np.eye(R)\n",
    "M = matrix[0:R,0:R]"
   ]
  },
  {
   "cell_type": "code",
   "execution_count": 7,
   "metadata": {},
   "outputs": [
    {
     "name": "stdout",
     "output_type": "stream",
     "text": [
      "1\n"
     ]
    }
   ],
   "source": [
    "if np.all(np.equal(M, I)) :\n",
    "    count = count + 1\n",
    "    n = R\n",
    "    while n + R < C :\n",
    "        if np.all(np.equal(M, I)) :\n",
    "            count = count + 1  \n",
    "            M = matrix[n:n+R,n:n+R]\n",
    "print(count)"
   ]
  },
  {
   "cell_type": "code",
   "execution_count": 8,
   "metadata": {},
   "outputs": [],
   "source": [
    "p = count * 4\n",
    "parity = matrix[:,p:]"
   ]
  },
  {
   "cell_type": "code",
   "execution_count": 9,
   "metadata": {},
   "outputs": [
    {
     "name": "stdout",
     "output_type": "stream",
     "text": [
      "[[1 1 1]\n",
      " [1 1 0]\n",
      " [1 0 1]\n",
      " [0 1 1]]\n"
     ]
    }
   ],
   "source": [
    "print(parity)"
   ]
  },
  {
   "cell_type": "code",
   "execution_count": 10,
   "metadata": {},
   "outputs": [],
   "source": [
    "parity_t = parity.transpose() "
   ]
  },
  {
   "cell_type": "code",
   "execution_count": 11,
   "metadata": {},
   "outputs": [
    {
     "name": "stdout",
     "output_type": "stream",
     "text": [
      "4\n"
     ]
    }
   ],
   "source": [
    "s_number = parity.shape[1]\n",
    "s_number1 = s_number\n",
    "rest = parity.shape[0]\n",
    "restc = C - rest\n",
    "print(rest)"
   ]
  },
  {
   "cell_type": "code",
   "execution_count": 12,
   "metadata": {},
   "outputs": [],
   "source": [
    "I1 = np.eye(restc)"
   ]
  },
  {
   "cell_type": "code",
   "execution_count": 13,
   "metadata": {},
   "outputs": [],
   "source": [
    "parity_t = np.array(parity_t)\n",
    "I1 = np.array(I1)"
   ]
  },
  {
   "cell_type": "code",
   "execution_count": 14,
   "metadata": {},
   "outputs": [
    {
     "name": "stdout",
     "output_type": "stream",
     "text": [
      "[[1 1 1 0]\n",
      " [1 1 0 1]\n",
      " [1 0 1 1]]\n",
      "[[1. 0. 0.]\n",
      " [0. 1. 0.]\n",
      " [0. 0. 1.]]\n"
     ]
    }
   ],
   "source": [
    "print(parity_t)\n",
    "print(I1)"
   ]
  },
  {
   "cell_type": "code",
   "execution_count": 15,
   "metadata": {},
   "outputs": [],
   "source": [
    "check = np.concatenate((parity_t,I1),axis=1)"
   ]
  },
  {
   "cell_type": "code",
   "execution_count": 16,
   "metadata": {},
   "outputs": [
    {
     "name": "stdout",
     "output_type": "stream",
     "text": [
      "[[1. 1. 1. 0. 1. 0. 0.]\n",
      " [1. 1. 0. 1. 0. 1. 0.]\n",
      " [1. 0. 1. 1. 0. 0. 1.]]\n"
     ]
    }
   ],
   "source": [
    "print(check)"
   ]
  },
  {
   "cell_type": "code",
   "execution_count": 30,
   "metadata": {},
   "outputs": [
    {
     "name": "stdout",
     "output_type": "stream",
     "text": [
      "module generator(I,O);\n",
      "    input [3:0] I;\n",
      "    output [2:0] O;\n"
     ]
    }
   ],
   "source": [
    "print(\"module generator(I,O);\") \n",
    "print(\"    input [\" + str(rest-1) + \":0] I;\")\n",
    "print(\"    output [\" + str(s_number-1) + \":0] O;\")"
   ]
  },
  {
   "cell_type": "code",
   "execution_count": 34,
   "metadata": {},
   "outputs": [
    {
     "name": "stdout",
     "output_type": "stream",
     "text": [
      "[' I[3]^I[2]^I[1]', ' I[3]^I[2]^I[0]', ' I[3]^I[1]^I[0]']\n"
     ]
    }
   ],
   "source": [
    "axis = 0\n",
    "restc1 = restc\n",
    "mylist = []\n",
    "while restc1 > 0 :\n",
    "    str2 = \" \"\n",
    "    p1 = np.array(parity[:,axis]) \n",
    "    p1 = np.where(p1)[0]\n",
    "    p1 = abs(p1-restc)\n",
    "    for i in p1:\n",
    "        str2 = str2 + \"I[\" + str(i) + \"]\" + \"^\"\n",
    "    str2 = str2[:-1] \n",
    "    #str2 = str2 + \")\"\n",
    "    mylist.append(str2)\n",
    "    axis = axis + 1\n",
    "    restc1 = restc1 - 1\n",
    "print(mylist)\n",
    "    "
   ]
  },
  {
   "cell_type": "code",
   "execution_count": 36,
   "metadata": {},
   "outputs": [
    {
     "name": "stdout",
     "output_type": "stream",
     "text": [
      "    assign O[2]= I[3]^I[2]^I[1];\n",
      "    assign O[1]= I[3]^I[2]^I[0];\n",
      "    assign O[0]= I[3]^I[1]^I[0];\n",
      "endmodule\n"
     ]
    }
   ],
   "source": [
    "number = 0\n",
    "while number < restc:\n",
    "    print(\"    assign O[\" + str(restc - number - 1) + \"]=\" + str(mylist[number]) + \";\")\n",
    "    number = number + 1\n",
    "print(\"endmodule\")"
   ]
  },
  {
   "cell_type": "code",
   "execution_count": 23,
   "metadata": {},
   "outputs": [
    {
     "name": "stdout",
     "output_type": "stream",
     "text": [
      "_______________________________________________________________________\n"
     ]
    }
   ],
   "source": [
    "print(\"_______________________________________________________________________\")"
   ]
  },
  {
   "cell_type": "code",
   "execution_count": 40,
   "metadata": {},
   "outputs": [
    {
     "name": "stdout",
     "output_type": "stream",
     "text": [
      "module check(I,O);\n",
      "    input [6:0] I, [2:0] P;\n",
      "    output [2:0] O;\n"
     ]
    }
   ],
   "source": [
    "print(\"module check(I,O);\")\n",
    "print(\"    input [\" + str(C-1) + \":0] I\" + \", [\" + str(restc-1) + \":0] P;\")\n",
    "print(\"    output [\" + str(s_number-1) + \":0] O;\")"
   ]
  },
  {
   "cell_type": "code",
   "execution_count": 41,
   "metadata": {},
   "outputs": [
    {
     "name": "stdout",
     "output_type": "stream",
     "text": [
      "[' I[3]^I[2]^I[1]^P[2]', ' I[3]^I[2]^I[0]^P[1]', ' I[3]^I[1]^I[0]^P[0]']\n"
     ]
    }
   ],
   "source": [
    "m = 0\n",
    "datalist = []\n",
    "\n",
    "while m < s_number :\n",
    "    str3 = \" \"\n",
    "    check1 = np.array(check[m,:])\n",
    "    check1 = np.where(check1)[0]\n",
    "    check1 = check1-restc\n",
    "    for c in check1:\n",
    "        \n",
    "        if c <= 0 :\n",
    "            c1 = -c\n",
    "            str3 = str3 + \"I[\" + str(c1) + \"]\" + \"^\"\n",
    "        else:\n",
    "            c1 = abs(c-restc)\n",
    "            str3 = str3 + \"P[\" + str(c1) + \"]\" + \"^\"\n",
    "    str3 = str3[:-1]\n",
    "    datalist.append(str3)\n",
    "    m = m + 1 \n",
    "print(datalist)"
   ]
  },
  {
   "cell_type": "code",
   "execution_count": 37,
   "metadata": {},
   "outputs": [
    {
     "name": "stdout",
     "output_type": "stream",
     "text": [
      "    assign O[2]= d[3]^d[2]^d[1]^p[2];\n",
      "    assign O[1]= d[3]^d[2]^d[0]^p[1];\n",
      "    assign O[0]= d[3]^d[1]^d[0]^p[0];\n",
      "endmodule\n"
     ]
    }
   ],
   "source": [
    "numbs = 0\n",
    "while numbs < s_number:\n",
    "    print(\"    assign O[\" + str(s_number - numbs - 1) + \"]=\" + str(datalist[numbs]) + \";\")\n",
    "    numbs = numbs + 1\n",
    "print(\"endmodule\")"
   ]
  },
  {
   "cell_type": "code",
   "execution_count": null,
   "metadata": {},
   "outputs": [],
   "source": []
  }
 ],
 "metadata": {
  "kernelspec": {
   "display_name": "Python 3",
   "language": "python",
   "name": "python3"
  },
  "language_info": {
   "codemirror_mode": {
    "name": "ipython",
    "version": 3
   },
   "file_extension": ".py",
   "mimetype": "text/x-python",
   "name": "python",
   "nbconvert_exporter": "python",
   "pygments_lexer": "ipython3",
   "version": "3.6.4"
  }
 },
 "nbformat": 4,
 "nbformat_minor": 2
}
