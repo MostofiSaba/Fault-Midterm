{
 "cells": [
  {
   "cell_type": "code",
   "execution_count": 1,
   "metadata": {},
   "outputs": [],
   "source": [
    "import numpy as np\n",
    "import pandas as pd\n",
    "import operator"
   ]
  },
  {
   "cell_type": "code",
   "execution_count": 2,
   "metadata": {},
   "outputs": [],
   "source": [
    "file1 = open(\"file1.txt\",\"r\")\n",
    "file2 = open(\"file2.txt\",\"r\")\n",
    "file3 = open(\"file3.txt\",\"r\")"
   ]
  },
  {
   "cell_type": "code",
   "execution_count": 3,
   "metadata": {},
   "outputs": [],
   "source": [
    "myfile1 = file1.readlines()\n",
    "myfile2 = file2.readlines()\n",
    "myfile3 = file3.readlines()"
   ]
  },
  {
   "cell_type": "code",
   "execution_count": 4,
   "metadata": {},
   "outputs": [],
   "source": [
    "file1.close()\n",
    "file2.close()\n",
    "file3.close()"
   ]
  },
  {
   "cell_type": "code",
   "execution_count": 5,
   "metadata": {},
   "outputs": [],
   "source": [
    "mylist1 = []\n",
    "mylist2 = []\n",
    "mylist3 = []\n",
    "x1 = []\n",
    "x2 = []\n",
    "x3 = []\n",
    "d = {}\n",
    "d1 = {}\n",
    "d2 = {}\n",
    "d3 = {}\n",
    "student_name = []\n",
    "student_grades = []\n",
    "student_grades1 = []\n",
    "student_grades2 = []\n",
    "student_grades3 = []"
   ]
  },
  {
   "cell_type": "code",
   "execution_count": 6,
   "metadata": {},
   "outputs": [],
   "source": [
    "def voter(num1,num2,num3):\n",
    "    if (num1 == num2 and num2== num3):\n",
    "        return num3\n",
    "    elif (num1 == num2):\n",
    "        return num2\n",
    "    elif (num2== num3):\n",
    "        return num3\n",
    "    elif (num1== num3):\n",
    "        return num1\n"
   ]
  },
  {
   "cell_type": "code",
   "execution_count": 7,
   "metadata": {},
   "outputs": [],
   "source": [
    "for line1 in myfile1:\n",
    "    line1 = line1.strip()\n",
    "    mylist1.append(line1)\n",
    "    \n"
   ]
  },
  {
   "cell_type": "code",
   "execution_count": 8,
   "metadata": {},
   "outputs": [],
   "source": [
    "for line2 in myfile2:\n",
    "    line2 = line2.strip()\n",
    "    mylist2.append(line2)"
   ]
  },
  {
   "cell_type": "code",
   "execution_count": 9,
   "metadata": {},
   "outputs": [],
   "source": [
    "for line3 in myfile3:\n",
    "    line3 = line3.strip()\n",
    "    mylist3.append(line3)"
   ]
  },
  {
   "cell_type": "code",
   "execution_count": 10,
   "metadata": {},
   "outputs": [
    {
     "name": "stdout",
     "output_type": "stream",
     "text": [
      "['18 10 17 15 11 16 11 11 10 11 14 18 20 15 20', '18 15 10 12 11 16 20 18 18 16 11 13 19 17 12', '10 10 13 19 11 12 15 17 12 15 18 15 11 19 15', '14 11 20 15 11 13 16 19 17 16 17 19 16 11 15', '18 18 13 12 13 12 20 18 17 12 19 13 16 15 17', '18 11 13 11 10 17 15 13 13 11 11 14 20 17 18', '19 10 14 14 12 12 10 20 19 12 20 13 19 20 15', '11 17 13 12 20 12 14 11 13 20 11 11 13 19 16', '15 18 17 11 18 11 18 18 13 10 20 10 12 12 17', '10 12 10 14 18 13 19 10 17 20 13 12 20 10 15', '10 17 10 18 17 15 10 16 12 20 19 20 12 14 20', '13 12 20 18 13 12 10 14 19 20 15 11 11 18 10', '13 12 10 11 12 10 10 13 20 10 20 20 13 14 16', '10 20 15 20 19 15 13 14 10 11 10 16 14 14 20', '13 18 17 10 16 19 16 15 17 20 13 18 14 18 16', '13 15 19 18 20 15 20 10 10 11 10 20 15 18 14', '17 15 14 18 20 13 17 12 11 15 14 15 14 13 18', '20 11 13 19 16 14 16 10 13 10 16 19 14 18 17', '14 13 12 13 11 20 18 17 17 20 17 11 17 11 13', '14 11 18 17 19 15 19 13 17 18 14 11 16 16 20', '14 11 15 12 17 19 18 14 20 15 10 16 19 17 13', '19 10 16 16 12 14 20 11 17 10 13 13 15 20 17', '13 16 10 12 18 10 18 14 15 17 20 15 12 20 18', '18 10 20 11 13 10 18 18 16 14 10 15 13 14 10', '15 15 15 10 10 15 13 19 18 18 14 11 15 17 15', '12 15 17 20 15 17 19 19 15 16 18 10 18 11 11', '18 17 20 12 17 20 13 18 13 19 16 13 15 20 16', '19 14 16 13 13 18 19 17 16 17 13 13 16 17 11', '16 14 13 14 12 19 15 11 20 17 10 20 12 12 18', '15 11 12 14 18 14 14 19 12 13 16 14 12 14 12', '11 17 20 12 14 18 14 11 12 14 19 12 17 13 18', '14 15 15 13 10 17 16 14 11 19 18 18 10 11 13', '16 16 17 10 16 18 16 10 14 17 19 11 11 16 16', '19 17 18 12 11 14 11 17 16 11 19 13 15 18 20', '18 16 10 18 11 10 14 14 19 16 18 13 15 18 14', '11 14 16 15 19 15 14 13 10 17 15 14 14 12 17', '18 18 20 13 18 13 13 20 10 15 13 20 18 19 13', '18 13 12 10 13 17 14 20 15 19 18 17 17 16 12', '18 17 16 19 17 11 14 18 11 14 18 18 10 16 14', '16 10 18 16 14 10 19 20 12 19 17 15 14 19 16', '13 10 18 17 19 19 20 20 19 15 11 18 15 17 13', '19 17 11 18 13 15 15 12 14 13 17 15 12 11 17', '13 18 15 10 18 14 19 14 12 13 14 11 12 20 17', '13 16 14 11 17 13 10 16 11 14 10 15 16 17 15', '18 13 16 10 16 13 16 11 19 12 19 11 11 18 11', '10 14 13 16 13 18 15 13 11 12 17 19 11 18 11', '12 20 14 15 16 18 15 17 14 20 10 10 16 13 13', '18 13 18 16 16 18 17 15 11 15 11 18 14 12 19', '16 15 18 13 15 16 18 14 20 12 13 11 13 15 15', '16 18 16 11 19 15 20 10 16 20 20 18 16 18 18', '20 13 19 12 12 12 11 19 14 14 14 13 17 15 11', '20 16 10 19 19 19 16 14 18 11 20 15 13 14 20', '18 13 16 18 19 10 10 11 10 10 14 10 20 15 13', '14 17 13 18 15 11 10 12 12 19 14 19 16 16 12', '20 18 13 18 17 14 15 16 19 12 13 11 16 19 11', '12 16 13 16 20 18 11 16 16 10 19 16 20 19 11', '15 20 18 16 18 16 17 18 12 19 18 17 12 11 20', '14 20 11 13 16 18 11 10 10 11 10 14 10 17 13', '12 12 13 12 17 18 19 17 19 10 13 11 18 12 16', '19 12 12 13 11 13 15 17 20 19 18 12 12 15 10', '17 20 17 12 18 14 11 10 17 18 15 12 17 12 19', '11 10 11 14 15 16 15 14 14 15 15 13 13 12 10', '14 15 19 12 12 17 12 19 20 19 17 16 17 16 19', '11 12 20 18 15 17 14 18 16 20 17 14 17 19 14', '19 10 11 12 16 10 17 20 18 18 16 18 11 14 11', '15 13 10 15 11 10 13 11 18 19 17 20 16 10 10', '10 19 16 11 19 18 12 12 14 18 12 14 16 20 18', '12 17 18 12 12 17 10 18 19 19 10 19 15 19 20', '18 20 17 15 13 11 12 11 11 15 19 17 19 18 12', '14 17 19 11 10 20 20 16 11 20 14 20 17 20 14', '20 20 17 10 14 18 18 10 19 17 15 12 17 20 10', '13 15 11 10 16 19 16 16 17 10 10 15 12 15 19', '13 15 15 16 18 10 11 14 20 20 17 17 11 14 19', '12 10 13 14 18 10 12 10 17 15 11 18 18 16 12', '19 18 15 15 13 13 10 20 15 14 13 20 12 16 20', '10 16 12 10 20 20 16 13 18 10 13 14 17 13 10', '17 20 17 16 20 10 18 13 18 11 19 14 11 10 13', '15 12 18 16 19 10 19 18 15 10 10 14 18 13 10', '14 12 19 17 20 12 18 16 16 16 20 12 10 12 18', '17 13 18 18 20 10 11 12 17 14 16 13 19 11 18', '11 19 15 13 15 16 19 18 15 14 15 19 17 15 16', '20 12 10 20 20 17 14 13 18 19 12 10 18 13 17', '10 13 19 16 11 18 10 13 10 12 10 11 11 10 18', '12 19 12 14 11 14 17 20 18 10 15 17 16 10 18', '18 15 20 20 10 20 13 19 18 14 16 11 15 10 19', '12 19 16 13 13 18 17 16 16 11 14 13 18 20 17', '11 20 12 18 14 18 19 14 10 18 16 11 20 10 19', '20 20 17 16 17 16 15 19 17 12 15 14 18 11 17', '14 17 10 15 16 13 16 11 18 10 17 12 17 19 10', '12 10 19 10 16 15 17 19 12 13 20 15 11 12 13', '12 19 16 14 12 12 17 12 10 19 20 16 16 18 16', '11 13 12 12 16 17 18 11 16 11 20 17 14 11 14', '18 15 20 16 18 15 13 17 10 16 12 10 11 16 15', '19 10 11 10 13 15 15 20 10 13 14 16 17 11 19', '15 14 13 20 20 19 16 20 10 10 20 18 15 15 13', '20 12 17 14 20 14 14 19 17 11 11 18 16 14 17', '19 17 19 13 20 11 13 17 20 19 12 13 10 16 19', '20 14 18 19 13 15 10 19 13 13 10 14 17 19 10', '11 10 12 13 13 14 10 14 11 11 11 13 20 12 19', '19 11 16 10 18 17 16 13 15 14 10 11 14 13 13']\n"
     ]
    }
   ],
   "source": [
    "print(mylist1)"
   ]
  },
  {
   "cell_type": "code",
   "execution_count": 11,
   "metadata": {},
   "outputs": [],
   "source": [
    "x1 = [elem.split() for elem in mylist1]\n",
    "x2 = [elem.split() for elem in mylist2]\n",
    "x3 = [elem.split() for elem in mylist3]"
   ]
  },
  {
   "cell_type": "code",
   "execution_count": 12,
   "metadata": {},
   "outputs": [],
   "source": [
    "x1 = np.array(x1)\n",
    "x2 = np.array(x2)\n",
    "x3 = np.array(x3)"
   ]
  },
  {
   "cell_type": "code",
   "execution_count": 13,
   "metadata": {},
   "outputs": [
    {
     "name": "stdout",
     "output_type": "stream",
     "text": [
      "(100, 15)\n",
      "(100, 15)\n",
      "(100, 15)\n"
     ]
    }
   ],
   "source": [
    "print(x1.shape)\n",
    "print(x2.shape)\n",
    "print(x3.shape)"
   ]
  },
  {
   "cell_type": "code",
   "execution_count": 14,
   "metadata": {},
   "outputs": [
    {
     "name": "stdout",
     "output_type": "stream",
     "text": [
      "10\n",
      "11\n",
      "10\n"
     ]
    }
   ],
   "source": [
    "print(x1[0][1])\n",
    "print(x2[0][1])\n",
    "print(x3[0][1])"
   ]
  },
  {
   "cell_type": "code",
   "execution_count": 15,
   "metadata": {},
   "outputs": [],
   "source": [
    "for j in range(0,100):\n",
    "    b1 = 0\n",
    "    b2 = 0\n",
    "    b3 = 0\n",
    "    for i in range(0,15):\n",
    "        a = voter(num1=x1[j][i],num2=x2[j][i],num3=x3[j][i])\n",
    "        b1 = b1 + int(a)\n",
    "        b2 = b2 + int(a)\n",
    "        b3 = b3 + int(a)\n",
    "        result = voter(num1=b1,num2=b2,num3=b3)\n",
    "        grade1 = result/15\n",
    "        grade2 = result/15\n",
    "        grade3 = result/15\n",
    "        final = voter(num1=grade1,num2=grade2,num3=grade3)\n",
    "        r1 = round(final, 2)\n",
    "        r2 = round(final, 2)\n",
    "        r3 = round(final, 2)\n",
    "        xfinal = voter(num1=r1,num2=r2,num3=r3)\n",
    "    d[j] = xfinal"
   ]
  },
  {
   "cell_type": "code",
   "execution_count": 16,
   "metadata": {},
   "outputs": [
    {
     "name": "stdout",
     "output_type": "stream",
     "text": [
      "{0: 14.47, 1: 15.07, 2: 14.13, 3: 15.33, 4: 15.53, 5: 14.13, 6: 15.27, 7: 14.2, 8: 14.67, 9: 14.2, 10: 15.33, 11: 14.4, 12: 13.6, 13: 14.73, 14: 16.0, 15: 15.2, 16: 15.07, 17: 15.07, 18: 14.93, 19: 15.87, 20: 15.33, 21: 14.87, 22: 15.2, 23: 14.0, 24: 14.67, 25: 15.53, 26: 16.47, 27: 15.47, 28: 14.87, 29: 14.0, 30: 14.8, 31: 14.27, 32: 14.87, 33: 15.4, 34: 14.93, 35: 14.4, 36: 16.07, 37: 15.4, 38: 15.4, 39: 15.67, 40: 16.27, 41: 14.6, 42: 14.67, 43: 13.87, 44: 14.27, 45: 14.07, 46: 14.87, 47: 15.4, 48: 14.93, 49: 16.73, 50: 14.4, 51: 16.27, 52: 13.8, 53: 14.53, 54: 15.47, 55: 15.53, 56: 16.47, 57: 13.2, 58: 14.6, 59: 14.53, 60: 15.27, 61: 13.2, 62: 16.27, 63: 16.13, 64: 14.73, 65: 13.87, 66: 15.27, 67: 15.8, 68: 15.2, 69: 16.2, 70: 15.8, 71: 14.27, 72: 15.33, 73: 13.73, 74: 15.53, 75: 14.13, 76: 15.13, 77: 14.47, 78: 15.47, 79: 15.13, 80: 15.8, 81: 15.53, 82: 12.8, 83: 14.87, 84: 15.87, 85: 15.53, 86: 15.33, 87: 16.27, 88: 14.33, 89: 14.27, 90: 15.27, 91: 14.2, 92: 14.8, 93: 14.2, 94: 15.87, 95: 15.6, 96: 15.87, 97: 14.93, 98: 12.93, 99: 14.0}\n"
     ]
    }
   ],
   "source": [
    "print(d)"
   ]
  },
  {
   "cell_type": "code",
   "execution_count": 17,
   "metadata": {},
   "outputs": [],
   "source": [
    "d1 = d\n",
    "d2 = d\n",
    "d3 = d"
   ]
  },
  {
   "cell_type": "code",
   "execution_count": 18,
   "metadata": {},
   "outputs": [],
   "source": [
    "sort_orders1 = sorted(d1.items(), key=lambda x: x[1], reverse=True)\n",
    "sort_orders2 = sorted(d2.items(), key=lambda x: x[1], reverse=True)\n",
    "sort_orders3 = sorted(d3.items(), key=lambda x: x[1], reverse=True)\n"
   ]
  },
  {
   "cell_type": "code",
   "execution_count": 19,
   "metadata": {},
   "outputs": [
    {
     "name": "stdout",
     "output_type": "stream",
     "text": [
      "[(49, 16.73), (26, 16.47), (56, 16.47), (40, 16.27), (51, 16.27), (62, 16.27), (87, 16.27), (69, 16.2), (63, 16.13), (36, 16.07), (14, 16.0), (19, 15.87), (84, 15.87), (94, 15.87), (96, 15.87), (67, 15.8), (70, 15.8), (80, 15.8), (39, 15.67), (95, 15.6), (4, 15.53), (25, 15.53), (55, 15.53), (74, 15.53), (81, 15.53), (85, 15.53), (27, 15.47), (54, 15.47), (78, 15.47), (33, 15.4), (37, 15.4), (38, 15.4), (47, 15.4), (3, 15.33), (10, 15.33), (20, 15.33), (72, 15.33), (86, 15.33), (6, 15.27), (60, 15.27), (66, 15.27), (90, 15.27), (15, 15.2), (22, 15.2), (68, 15.2), (76, 15.13), (79, 15.13), (1, 15.07), (16, 15.07), (17, 15.07), (18, 14.93), (34, 14.93), (48, 14.93), (97, 14.93), (21, 14.87), (28, 14.87), (32, 14.87), (46, 14.87), (83, 14.87), (30, 14.8), (92, 14.8), (13, 14.73), (64, 14.73), (8, 14.67), (24, 14.67), (42, 14.67), (41, 14.6), (58, 14.6), (53, 14.53), (59, 14.53), (0, 14.47), (77, 14.47), (11, 14.4), (35, 14.4), (50, 14.4), (88, 14.33), (31, 14.27), (44, 14.27), (71, 14.27), (89, 14.27), (7, 14.2), (9, 14.2), (91, 14.2), (93, 14.2), (2, 14.13), (5, 14.13), (75, 14.13), (45, 14.07), (23, 14.0), (29, 14.0), (99, 14.0), (43, 13.87), (65, 13.87), (52, 13.8), (73, 13.73), (12, 13.6), (57, 13.2), (61, 13.2), (98, 12.93), (82, 12.8)]\n"
     ]
    }
   ],
   "source": [
    "print(sort_orders3)"
   ]
  },
  {
   "cell_type": "code",
   "execution_count": 20,
   "metadata": {},
   "outputs": [],
   "source": [
    "for c in sort_orders1 :\n",
    "    student_name.append(c[0])\n",
    "    student_grades1.append(c[1])\n",
    "    student_grades2.append(c[1])\n",
    "    student_grades3.append(c[1])"
   ]
  },
  {
   "cell_type": "code",
   "execution_count": 21,
   "metadata": {},
   "outputs": [
    {
     "name": "stdout",
     "output_type": "stream",
     "text": [
      "0\n"
     ]
    }
   ],
   "source": [
    "print(len(student_grades))"
   ]
  },
  {
   "cell_type": "code",
   "execution_count": 22,
   "metadata": {},
   "outputs": [],
   "source": [
    "for number in range(100):\n",
    "    #print(number)\n",
    "    student_grades.append(voter(num1=student_grades1[number],num2=student_grades2[number],num3=student_grades3[number]))"
   ]
  },
  {
   "cell_type": "code",
   "execution_count": 23,
   "metadata": {},
   "outputs": [
    {
     "name": "stdout",
     "output_type": "stream",
     "text": [
      "student50  GPI : 16.73\n",
      "student27  GPI : 16.47\n",
      "student57  GPI : 16.47\n",
      "student41  GPI : 16.27\n",
      "student52  GPI : 16.27\n",
      "student63  GPI : 16.27\n",
      "student88  GPI : 16.27\n",
      "student70  GPI : 16.2\n",
      "student64  GPI : 16.13\n",
      "student37  GPI : 16.07\n",
      "student15  GPI : 16.0\n",
      "student20  GPI : 15.87\n",
      "student85  GPI : 15.87\n",
      "student95  GPI : 15.87\n",
      "student97  GPI : 15.87\n",
      "student68  GPI : 15.8\n",
      "student71  GPI : 15.8\n",
      "student81  GPI : 15.8\n",
      "student40  GPI : 15.67\n",
      "student96  GPI : 15.6\n",
      "student5  GPI : 15.53\n",
      "student26  GPI : 15.53\n",
      "student56  GPI : 15.53\n",
      "student75  GPI : 15.53\n",
      "student82  GPI : 15.53\n",
      "student86  GPI : 15.53\n",
      "student28  GPI : 15.47\n",
      "student55  GPI : 15.47\n",
      "student79  GPI : 15.47\n",
      "student34  GPI : 15.4\n",
      "student38  GPI : 15.4\n",
      "student39  GPI : 15.4\n",
      "student48  GPI : 15.4\n",
      "student4  GPI : 15.33\n",
      "student11  GPI : 15.33\n",
      "student21  GPI : 15.33\n",
      "student73  GPI : 15.33\n",
      "student87  GPI : 15.33\n",
      "student7  GPI : 15.27\n",
      "student61  GPI : 15.27\n",
      "student67  GPI : 15.27\n",
      "student91  GPI : 15.27\n",
      "student16  GPI : 15.2\n",
      "student23  GPI : 15.2\n",
      "student69  GPI : 15.2\n",
      "student77  GPI : 15.13\n",
      "student80  GPI : 15.13\n",
      "student2  GPI : 15.07\n",
      "student17  GPI : 15.07\n",
      "student18  GPI : 15.07\n",
      "student19  GPI : 14.93\n",
      "student35  GPI : 14.93\n",
      "student49  GPI : 14.93\n",
      "student98  GPI : 14.93\n",
      "student22  GPI : 14.87\n",
      "student29  GPI : 14.87\n",
      "student33  GPI : 14.87\n",
      "student47  GPI : 14.87\n",
      "student84  GPI : 14.87\n",
      "student31  GPI : 14.8\n",
      "student93  GPI : 14.8\n",
      "student14  GPI : 14.73\n",
      "student65  GPI : 14.73\n",
      "student9  GPI : 14.67\n",
      "student25  GPI : 14.67\n",
      "student43  GPI : 14.67\n",
      "student42  GPI : 14.6\n",
      "student59  GPI : 14.6\n",
      "student54  GPI : 14.53\n",
      "student60  GPI : 14.53\n",
      "student1  GPI : 14.47\n",
      "student78  GPI : 14.47\n",
      "student12  GPI : 14.4\n",
      "student36  GPI : 14.4\n",
      "student51  GPI : 14.4\n",
      "student89  GPI : 14.33\n",
      "student32  GPI : 14.27\n",
      "student45  GPI : 14.27\n",
      "student72  GPI : 14.27\n",
      "student90  GPI : 14.27\n",
      "student8  GPI : 14.2\n",
      "student10  GPI : 14.2\n",
      "student92  GPI : 14.2\n",
      "student94  GPI : 14.2\n",
      "student3  GPI : 14.13\n",
      "student6  GPI : 14.13\n",
      "student76  GPI : 14.13\n",
      "student46  GPI : 14.07\n",
      "student24  GPI : 14.0\n",
      "student30  GPI : 14.0\n",
      "student100  GPI : 14.0\n",
      "student44  GPI : 13.87\n",
      "student66  GPI : 13.87\n",
      "student53  GPI : 13.8\n",
      "student74  GPI : 13.73\n",
      "student13  GPI : 13.6\n",
      "student58  GPI : 13.2\n",
      "student62  GPI : 13.2\n",
      "student99  GPI : 12.93\n",
      "student83  GPI : 12.8\n"
     ]
    }
   ],
   "source": [
    "for num in range(100):\n",
    "    print(\"student\" + str(student_name[num] + 1) + \"  GPI : \" + str(student_grades[num]))"
   ]
  },
  {
   "cell_type": "code",
   "execution_count": null,
   "metadata": {},
   "outputs": [],
   "source": []
  }
 ],
 "metadata": {
  "kernelspec": {
   "display_name": "Python 3",
   "language": "python",
   "name": "python3"
  },
  "language_info": {
   "codemirror_mode": {
    "name": "ipython",
    "version": 3
   },
   "file_extension": ".py",
   "mimetype": "text/x-python",
   "name": "python",
   "nbconvert_exporter": "python",
   "pygments_lexer": "ipython3",
   "version": "3.6.4"
  }
 },
 "nbformat": 4,
 "nbformat_minor": 2
}
